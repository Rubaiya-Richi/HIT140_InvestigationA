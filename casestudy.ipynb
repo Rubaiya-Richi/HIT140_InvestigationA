{
 "cells": [
  {
   "cell_type": "markdown",
   "metadata": {},
   "source": [
    "Hamja: Data prep, descriptive stats, and barplot (AVOIDANCE)<br>\n",
    "Investigation A"
   ]
  },
  {
   "cell_type": "code",
   "execution_count": 14,
   "metadata": {},
   "outputs": [],
   "source": [
    "import pandas as pd\n",
    "import numpy as np\n",
    "import matplotlib.pyplot as plt"
   ]
  },
  {
   "cell_type": "markdown",
   "metadata": {},
   "source": [
    "1) LOAD"
   ]
  },
  {
   "cell_type": "code",
   "execution_count": 15,
   "metadata": {},
   "outputs": [],
   "source": [
    "DATASET1 = \"dataset1.csv\"\n",
    "DATASET2 = \"dataset2.csv\"\n",
    "MERGE_KEYS = [\"month\", \"hours_after_sunset\"]   # common keys\n",
    "OUTPUT_MERGED = \"merged_clean.csv\"\n",
    "PLOT_FILE = \"avoidance_barplot.png\""
   ]
  },
  {
   "cell_type": "code",
   "execution_count": 16,
   "metadata": {},
   "outputs": [],
   "source": [
    "df1 = pd.read_csv(DATASET1)\n",
    "df2 = pd.read_csv(DATASET2)"
   ]
  },
  {
   "cell_type": "markdown",
   "metadata": {},
   "source": [
    "standardize column names"
   ]
  },
  {
   "cell_type": "code",
   "execution_count": 17,
   "metadata": {},
   "outputs": [],
   "source": [
    "df1.columns = [c.strip().lower().replace(\" \", \"_\") for c in df1.columns]\n",
    "df2.columns = [c.strip().lower().replace(\" \", \"_\") for c in df2.columns]"
   ]
  },
  {
   "cell_type": "markdown",
   "metadata": {},
   "source": [
    "2) CLEAN"
   ]
  },
  {
   "cell_type": "code",
   "execution_count": 18,
   "metadata": {},
   "outputs": [],
   "source": [
    "df1 = df1.drop_duplicates()\n",
    "df2 = df2.drop_duplicates()"
   ]
  },
  {
   "cell_type": "markdown",
   "metadata": {},
   "source": [
    "numeric cleaning"
   ]
  },
  {
   "cell_type": "code",
   "execution_count": 19,
   "metadata": {},
   "outputs": [],
   "source": [
    "num_cols = [\"month\",\"hours_after_sunset\",\"rat_minutes\",\"rat_arrival_number\",\n",
    "            \"bat_landing_number\",\"bat_landing_to_food\"]\n",
    "for col in num_cols:\n",
    "    if col in df1.columns:\n",
    "        df1[col] = pd.to_numeric(df1[col], errors=\"coerce\")\n",
    "    if col in df2.columns:\n",
    "        df2[col] = pd.to_numeric(df2[col], errors=\"coerce\")"
   ]
  },
  {
   "cell_type": "code",
   "execution_count": 20,
   "metadata": {},
   "outputs": [],
   "source": [
    "for df in (df1, df2):\n",
    "    if \"hours_after_sunset\" in df.columns:\n",
    "        df.loc[(df[\"hours_after_sunset\"] < -2) | (df[\"hours_after_sunset\"] > 12), \"hours_after_sunset\"] = np.nan"
   ]
  },
  {
   "cell_type": "markdown",
   "metadata": {},
   "source": [
    "3) MERGE"
   ]
  },
  {
   "cell_type": "code",
   "execution_count": 21,
   "metadata": {},
   "outputs": [
    {
     "name": "stdout",
     "output_type": "stream",
     "text": [
      "Merged rows: 32 (saved -> merged_clean.csv)\n"
     ]
    }
   ],
   "source": [
    "merged = pd.merge(df1, df2, on=MERGE_KEYS, how=\"inner\", suffixes=(\"_d1\",\"_d2\"))\n",
    "merged.to_csv(OUTPUT_MERGED, index=False)\n",
    "print(f\"Merged rows: {len(merged)} (saved -> {OUTPUT_MERGED})\")"
   ]
  },
  {
   "cell_type": "markdown",
   "metadata": {},
   "source": [
    "4) DESCRIPTIVE STATISTICS"
   ]
  },
  {
   "cell_type": "code",
   "execution_count": 22,
   "metadata": {},
   "outputs": [
    {
     "name": "stdout",
     "output_type": "stream",
     "text": [
      "\n",
      "=== Descriptive statistics (numeric) ===\n",
      "                           count        mean        std         min  \\\n",
      "bat_landing_to_food         32.0    0.414857   0.460502    0.063772   \n",
      "seconds_after_rat_arrival   32.0  314.375000  70.337321  225.000000   \n",
      "risk                        32.0    1.000000   0.000000    1.000000   \n",
      "reward                      32.0    0.000000   0.000000    0.000000   \n",
      "month                       32.0    3.250000   0.983739    2.000000   \n",
      "hours_after_sunset          20.0    7.000000   0.000000    7.000000   \n",
      "season                      32.0    0.625000   0.491869    0.000000   \n",
      "bat_landing_number          32.0   39.687500  38.325800    1.000000   \n",
      "food_availability           32.0    1.259697   1.132544    0.000000   \n",
      "rat_minutes                 32.0    1.612500   3.584920    0.000000   \n",
      "rat_arrival_number          32.0    0.562500   0.981687    0.000000   \n",
      "\n",
      "                                  25%         50%      75%         max  \n",
      "bat_landing_to_food          0.063772    0.063772    1.000    1.000000  \n",
      "seconds_after_rat_arrival  225.000000  368.000000  368.000  368.000000  \n",
      "risk                         1.000000    1.000000    1.000    1.000000  \n",
      "reward                       0.000000    0.000000    0.000    0.000000  \n",
      "month                        2.000000    4.000000    4.000    4.000000  \n",
      "hours_after_sunset           7.000000    7.000000    7.000    7.000000  \n",
      "season                       0.000000    1.000000    1.000    1.000000  \n",
      "bat_landing_number           3.000000   44.000000   64.250  178.000000  \n",
      "food_availability            0.000000    1.916667    2.000    3.000000  \n",
      "rat_minutes                  0.000000    0.000000    1.425   15.316667  \n",
      "rat_arrival_number           0.000000    0.000000    1.000    4.000000  \n"
     ]
    }
   ],
   "source": [
    "desc_numeric = merged.select_dtypes(include=\"number\").describe().T\n",
    "print(\"\\n=== Descriptive statistics (numeric) ===\")\n",
    "print(desc_numeric)"
   ]
  },
  {
   "cell_type": "markdown",
   "metadata": {},
   "source": [
    "5) AVOIDANCE ANALYSIS (bar plot)"
   ]
  },
  {
   "cell_type": "markdown",
   "metadata": {},
   "source": [
    "rat presence if arrivals >0 or minutes >0"
   ]
  },
  {
   "cell_type": "code",
   "execution_count": 23,
   "metadata": {},
   "outputs": [],
   "source": [
    "rats_present = (merged.get(\"rat_arrival_number\",0) > 0) | (merged.get(\"rat_minutes\",0) > 0)\n",
    "merged[\"rats_present\"] = np.where(rats_present, \"Rats present\", \"No rats\")"
   ]
  },
  {
   "cell_type": "markdown",
   "metadata": {},
   "source": [
    "outcome metric"
   ]
  },
  {
   "cell_type": "code",
   "execution_count": 24,
   "metadata": {},
   "outputs": [],
   "source": [
    "if \"bat_landing_number\" in merged.columns:\n",
    "    landing_metric = \"bat_landing_number\"\n",
    "else:\n",
    "    landing_metric = \"bat_landing_to_food\""
   ]
  },
  {
   "cell_type": "code",
   "execution_count": 25,
   "metadata": {},
   "outputs": [
    {
     "name": "stdout",
     "output_type": "stream",
     "text": [
      "\n",
      "=== Avoidance summary (group means) ===\n",
      "   rats_present  bat_landing_number\n",
      "0       No rats           46.142857\n",
      "1  Rats present           27.363636\n"
     ]
    }
   ],
   "source": [
    "avoidance_summary = merged.groupby(\"rats_present\")[landing_metric].mean().reset_index()\n",
    "print(\"\\n=== Avoidance summary (group means) ===\")\n",
    "print(avoidance_summary)"
   ]
  },
  {
   "cell_type": "markdown",
   "metadata": {},
   "source": [
    "plot"
   ]
  },
  {
   "cell_type": "code",
   "execution_count": 26,
   "metadata": {},
   "outputs": [
    {
     "data": {
      "image/png": "[encoded data removed]",
      "text/plain": [
       "<Figure size 640x480 with 1 Axes>"
      ]
     },
     "metadata": {},
     "output_type": "display_data"
    }
   ],
   "source": [
    "plt.figure()\n",
    "plt.bar(avoidance_summary[\"rats_present\"], avoidance_summary[landing_metric])\n",
    "plt.title(\"Avoidance analysis: mean bat landings vs rat presence\")\n",
    "plt.xlabel(\"Rat presence\")\n",
    "plt.ylabel(f\"Mean {landing_metric.replace('_',' ')}\")\n",
    "plt.tight_layout()\n",
    "plt.savefig(PLOT_FILE, dpi=160)\n",
    "plt.show()"
   ]
  }
 ],
 "metadata": {
  "kernelspec": {
   "display_name": "Python 3",
   "language": "python",
   "name": "python3"
  },
  "language_info": {
   "codemirror_mode": {
    "name": "ipython",
    "version": 3
   },
   "file_extension": ".py",
   "mimetype": "text/x-python",
   "name": "python",
   "nbconvert_exporter": "python",
   "pygments_lexer": "ipython3",
   "version": "3.6.4"
  }
 },
 "nbformat": 4,
 "nbformat_minor": 2
}
